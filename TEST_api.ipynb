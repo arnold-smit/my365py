{
 "cells": [
  {
   "cell_type": "code",
   "execution_count": null,
   "id": "0ca0d759-e8a9-4f4a-93d1-664ed081a781",
   "metadata": {},
   "outputs": [],
   "source": [
    "import asyncio\n",
    "import requests\n",
    "from lib.my365py_auth import M365Auth, get_azure_ids\n",
    "from lib.my365py_logger import logger\n",
    "from lib.my365py_config import CNF"
   ]
  },
  {
   "cell_type": "code",
   "execution_count": null,
   "id": "9ca9f185-6cc4-4a3b-82de-72c4137f2e96",
   "metadata": {},
   "outputs": [],
   "source": [
    "m365auth = M365Auth()"
   ]
  },
  {
   "cell_type": "code",
   "execution_count": null,
   "id": "b68d28d6-ddb4-41fd-9b07-e94a1c3566eb",
   "metadata": {},
   "outputs": [],
   "source": [
    "url = \"https://graph.microsoft.com/v1.0/me\"\n",
    "response = requests.get(url=url, headers=m365auth.get_auth_header())"
   ]
  },
  {
   "cell_type": "code",
   "execution_count": null,
   "id": "b2b4c97f-37be-4a76-a198-14cc9847b93a",
   "metadata": {},
   "outputs": [],
   "source": [
    "response.json()"
   ]
  },
  {
   "cell_type": "code",
   "execution_count": null,
   "id": "41ee40ac-79bf-4def-aa06-2fb9415c0df0",
   "metadata": {},
   "outputs": [],
   "source": [
    "url = \"https://graph.microsoft.com/v1.0/me/drive/root/children\"\n",
    "response = requests.get(url=url, headers=m365auth.get_auth_header())"
   ]
  },
  {
   "cell_type": "code",
   "execution_count": null,
   "id": "518d257c-b6cf-4d75-b15f-dbd079f6c5d9",
   "metadata": {},
   "outputs": [],
   "source": [
    "files = response.json()['value']"
   ]
  },
  {
   "cell_type": "code",
   "execution_count": null,
   "id": "e1468cec-dbf2-4e74-9efa-66e5f3c8082e",
   "metadata": {},
   "outputs": [],
   "source": [
    "files[-1].keys()"
   ]
  },
  {
   "cell_type": "code",
   "execution_count": null,
   "id": "28fa067f-77f6-4ca5-aa49-8e05ae01b996",
   "metadata": {},
   "outputs": [],
   "source": [
    "files[-1][\"name\"] "
   ]
  },
  {
   "cell_type": "code",
   "execution_count": null,
   "id": "954a0e46-9ce5-40be-9508-4399d19483cd",
   "metadata": {},
   "outputs": [],
   "source": [
    "files[-1][\"file\"][\"mimeType\"]"
   ]
  },
  {
   "cell_type": "code",
   "execution_count": null,
   "id": "c9fc0a5a-aeaf-4e89-9e24-5fe3f30e5572",
   "metadata": {},
   "outputs": [],
   "source": [
    "files[-1]['@microsoft.graph.downloadUrl']"
   ]
  },
  {
   "cell_type": "code",
   "execution_count": null,
   "id": "5a273438-f2a5-49ae-8aaf-68c36ea71305",
   "metadata": {},
   "outputs": [],
   "source": [
    "for file_info in files:\n",
    "    print(file_info[\"name\"] + \" - \" + files[-1][\"file\"][\"mimeType\"])"
   ]
  },
  {
   "cell_type": "code",
   "execution_count": null,
   "id": "1f67879e-9f79-4e15-99be-66705cb4cb17",
   "metadata": {},
   "outputs": [],
   "source": [
    "files[-2]['@microsoft.graph.downloadUrl']"
   ]
  },
  {
   "cell_type": "code",
   "execution_count": null,
   "id": "ad06ce04-513e-4f65-9fe6-69e33b4d61d8",
   "metadata": {},
   "outputs": [],
   "source": []
  },
  {
   "cell_type": "code",
   "execution_count": null,
   "id": "84ee4b80-a8f3-417b-bb7a-c5d57c49be45",
   "metadata": {},
   "outputs": [],
   "source": []
  }
 ],
 "metadata": {
  "kernelspec": {
   "display_name": "Python 3 (ipykernel)",
   "language": "python",
   "name": "python3"
  },
  "language_info": {
   "codemirror_mode": {
    "name": "ipython",
    "version": 3
   },
   "file_extension": ".py",
   "mimetype": "text/x-python",
   "name": "python",
   "nbconvert_exporter": "python",
   "pygments_lexer": "ipython3",
   "version": "3.13.7"
  }
 },
 "nbformat": 4,
 "nbformat_minor": 5
}
